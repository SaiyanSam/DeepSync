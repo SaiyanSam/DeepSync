{
 "cells": [
  {
   "cell_type": "code",
   "execution_count": 9,
   "id": "b0f52588-d518-4bda-9eb4-03c8188965cd",
   "metadata": {},
   "outputs": [],
   "source": [
    "import cv2\n",
    "import numpy as np"
   ]
  },
  {
   "cell_type": "code",
   "execution_count": 10,
   "id": "99c8182c-48e4-4ec3-ad51-2dd6a22bde2c",
   "metadata": {},
   "outputs": [],
   "source": [
    "def color_transfer(source, target):\n",
    "    # Convert the images from BGR to LAB color space\n",
    "    source_lab = cv2.cvtColor(source, cv2.COLOR_BGR2LAB).astype(np.float32)\n",
    "    target_lab = cv2.cvtColor(target, cv2.COLOR_BGR2LAB).astype(np.float32)\n",
    "\n",
    "    # Compute the mean and standard deviation of each channel in LAB color space\n",
    "    src_mean, src_stddev = cv2.meanStdDev(source_lab)\n",
    "    tgt_mean, tgt_stddev = cv2.meanStdDev(target_lab)\n",
    "\n",
    "    # Subtract the target mean, scale by the source/target stddev, add the source mean\n",
    "    for i in range(3):\n",
    "        target_lab[:, :, i] = ((target_lab[:, :, i] - tgt_mean[i]) * (src_stddev[i] / tgt_stddev[i])) + src_mean[i]\n",
    "\n",
    "    # Clip the values to [0, 255] range and convert back to 8-bit\n",
    "    target_lab = np.clip(target_lab, 0, 255).astype(np.uint8)\n",
    "\n",
    "    # Convert the LAB image back to BGR color space\n",
    "    result = cv2.cvtColor(target_lab, cv2.COLOR_LAB2BGR)\n",
    "\n",
    "    return result"
   ]
  },
  {
   "cell_type": "code",
   "execution_count": 15,
   "id": "31f6cd9d-9d77-438d-b22e-16b84add7ec4",
   "metadata": {},
   "outputs": [],
   "source": [
    "# Load the source and target images\n",
    "source = cv2.imread('Images/source.jpg')\n",
    "target = cv2.imread('Images/target.jpg')"
   ]
  },
  {
   "cell_type": "code",
   "execution_count": 16,
   "id": "e3218c04-1585-47ad-8c6c-a78304431946",
   "metadata": {},
   "outputs": [
    {
     "data": {
      "text/plain": [
       "True"
      ]
     },
     "execution_count": 16,
     "metadata": {},
     "output_type": "execute_result"
    }
   ],
   "source": [
    "# Perform color transfer\n",
    "result = color_transfer(source, target)\n",
    "\n",
    "# Save the result\n",
    "cv2.imwrite('color_transferred.jpg', result)"
   ]
  },
  {
   "cell_type": "code",
   "execution_count": null,
   "id": "b5becb6e-1147-465a-a83c-46fa21e5dd83",
   "metadata": {},
   "outputs": [],
   "source": []
  }
 ],
 "metadata": {
  "kernelspec": {
   "display_name": "Python 3 (ipykernel)",
   "language": "python",
   "name": "python3"
  },
  "language_info": {
   "codemirror_mode": {
    "name": "ipython",
    "version": 3
   },
   "file_extension": ".py",
   "mimetype": "text/x-python",
   "name": "python",
   "nbconvert_exporter": "python",
   "pygments_lexer": "ipython3",
   "version": "3.8.19"
  }
 },
 "nbformat": 4,
 "nbformat_minor": 5
}
