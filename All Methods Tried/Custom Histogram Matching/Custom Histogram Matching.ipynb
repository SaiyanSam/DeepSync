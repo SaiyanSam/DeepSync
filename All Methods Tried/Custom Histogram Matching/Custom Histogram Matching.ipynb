{
 "cells": [
  {
   "cell_type": "code",
   "execution_count": 1,
   "id": "5e8666b7-1ff5-4ad8-991a-ffb70067a03c",
   "metadata": {},
   "outputs": [],
   "source": [
    "import cv2\n",
    "import numpy as np"
   ]
  },
  {
   "cell_type": "code",
   "execution_count": 5,
   "id": "c6c79c9f-25cf-427d-8473-557dad5f76cf",
   "metadata": {},
   "outputs": [],
   "source": [
    "def histogram_matching(source, target):\n",
    "    # Convert the images from BGR to LAB color space\n",
    "    source_lab = cv2.cvtColor(source, cv2.COLOR_BGR2LAB)\n",
    "    target_lab = cv2.cvtColor(target, cv2.COLOR_BGR2LAB)\n",
    "\n",
    "    matched = np.zeros_like(target_lab)\n",
    "\n",
    "    for i in range(3):\n",
    "        # Compute the histogram and cumulative distribution function (CDF)\n",
    "        src_hist, src_bins = np.histogram(source_lab[:, :, i].flatten(), 256, [0, 256])\n",
    "        tgt_hist, tgt_bins = np.histogram(target_lab[:, :, i].flatten(), 256, [0, 256])\n",
    "\n",
    "        src_cdf = src_hist.cumsum()\n",
    "        src_cdf_normalized = src_cdf * (255 / src_cdf[-1])\n",
    "\n",
    "        tgt_cdf = tgt_hist.cumsum()\n",
    "        tgt_cdf_normalized = tgt_cdf * (255 / tgt_cdf[-1])\n",
    "\n",
    "        # Create a lookup table\n",
    "        lut = np.zeros(256)\n",
    "        g_j = 0\n",
    "        for g_i in range(256):\n",
    "            while g_j < 255 and tgt_cdf_normalized[g_j] < src_cdf_normalized[g_i]:\n",
    "                g_j += 1\n",
    "            lut[g_i] = g_j\n",
    "\n",
    "        # Apply the lookup table to the target image\n",
    "        matched[:, :, i] = cv2.LUT(target_lab[:, :, i], lut.astype(np.uint8))\n",
    "\n",
    "    # Convert the LAB image back to BGR color space\n",
    "    result = cv2.cvtColor(matched, cv2.COLOR_LAB2BGR)\n",
    "\n",
    "    return result"
   ]
  },
  {
   "cell_type": "code",
   "execution_count": 10,
   "id": "a80e1f09-a1dc-4afa-81aa-b8df013a1187",
   "metadata": {},
   "outputs": [],
   "source": [
    "# Load the source and target images\n",
    "source = cv2.imread('Images/source.jpg')\n",
    "target = cv2.imread('Images/target.jpg')"
   ]
  },
  {
   "cell_type": "code",
   "execution_count": 11,
   "id": "7783836c-4555-4664-8328-da63b7af615a",
   "metadata": {},
   "outputs": [
    {
     "data": {
      "text/plain": [
       "True"
      ]
     },
     "execution_count": 11,
     "metadata": {},
     "output_type": "execute_result"
    }
   ],
   "source": [
    "# Perform histogram matching\n",
    "result = histogram_matching(source, target)\n",
    "\n",
    "# Save the result\n",
    "cv2.imwrite('histogram_matched.jpg', result)"
   ]
  },
  {
   "cell_type": "code",
   "execution_count": null,
   "id": "c37fa0fb-0fe0-4a35-a0d8-b82fd32050d6",
   "metadata": {},
   "outputs": [],
   "source": []
  }
 ],
 "metadata": {
  "kernelspec": {
   "display_name": "Python 3 (ipykernel)",
   "language": "python",
   "name": "python3"
  },
  "language_info": {
   "codemirror_mode": {
    "name": "ipython",
    "version": 3
   },
   "file_extension": ".py",
   "mimetype": "text/x-python",
   "name": "python",
   "nbconvert_exporter": "python",
   "pygments_lexer": "ipython3",
   "version": "3.8.19"
  }
 },
 "nbformat": 4,
 "nbformat_minor": 5
}
